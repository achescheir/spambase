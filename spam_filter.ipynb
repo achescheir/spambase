{
 "cells": [
  {
   "cell_type": "code",
   "execution_count": 1,
   "metadata": {
    "collapsed": true
   },
   "outputs": [],
   "source": [
    "from sklearn.naive_bayes import MultinomialNB\n",
    "from sklearn.pipeline import Pipeline\n",
    "from sklearn.feature_extraction.text import CountVectorizer, TfidfTransformer\n",
    "from sklearn.cross_validation import train_test_split\n",
    "import pandas as pd"
   ]
  },
  {
   "cell_type": "code",
   "execution_count": 2,
   "metadata": {
    "collapsed": false
   },
   "outputs": [],
   "source": [
    "df = pd.read_csv(\"spambase/spambase.data\", names = range(58))\n",
    "train_x, test_x, train_y, test_y = train_test_split(df[list(range(57))],df[57])\n"
   ]
  },
  {
   "cell_type": "code",
   "execution_count": 3,
   "metadata": {
    "collapsed": false
   },
   "outputs": [
    {
     "name": "stdout",
     "output_type": "stream",
     "text": [
      "0.802898550725\n",
      "0.807124239791\n"
     ]
    }
   ],
   "source": [
    "classifier = MultinomialNB()\n",
    "classifier.fit(train_x,train_y)\n",
    "print(classifier.score(train_x,train_y))\n",
    "print(classifier.score(test_x,test_y))"
   ]
  },
  {
   "cell_type": "code",
   "execution_count": 4,
   "metadata": {
    "collapsed": false
   },
   "outputs": [],
   "source": [
    "def test_feature_list(features,train_x, train_y):\n",
    "    classifier = MultinomialNB()\n",
    "    classifier.fit(train_x[features],train_y)\n",
    "    return classifier.score(train_x[features], train_y)"
   ]
  },
  {
   "cell_type": "markdown",
   "metadata": {},
   "source": [
    "Words Only"
   ]
  },
  {
   "cell_type": "code",
   "execution_count": 5,
   "metadata": {
    "collapsed": false
   },
   "outputs": [
    {
     "name": "stdout",
     "output_type": "stream",
     "text": [
      "0.873913043478\n"
     ]
    }
   ],
   "source": [
    "these_features = list(range(48))\n",
    "print(test_feature_list(these_features,train_x, train_y))"
   ]
  },
  {
   "cell_type": "markdown",
   "metadata": {},
   "source": [
    "Chars Only"
   ]
  },
  {
   "cell_type": "code",
   "execution_count": 6,
   "metadata": {
    "collapsed": false
   },
   "outputs": [
    {
     "name": "stdout",
     "output_type": "stream",
     "text": [
      "0.766666666667\n"
     ]
    }
   ],
   "source": [
    "these_features = list(range(48,54))\n",
    "print(test_feature_list(these_features,train_x, train_y))"
   ]
  },
  {
   "cell_type": "markdown",
   "metadata": {},
   "source": [
    "Caps Only"
   ]
  },
  {
   "cell_type": "code",
   "execution_count": 7,
   "metadata": {
    "collapsed": false
   },
   "outputs": [
    {
     "name": "stdout",
     "output_type": "stream",
     "text": [
      "0.566086956522\n"
     ]
    }
   ],
   "source": [
    "these_features = list(range(54,57))\n",
    "print(test_feature_list(these_features,train_x, train_y))"
   ]
  },
  {
   "cell_type": "markdown",
   "metadata": {},
   "source": [
    "Words and Chars"
   ]
  },
  {
   "cell_type": "code",
   "execution_count": 8,
   "metadata": {
    "collapsed": false
   },
   "outputs": [
    {
     "name": "stdout",
     "output_type": "stream",
     "text": [
      "0.876231884058\n"
     ]
    }
   ],
   "source": [
    "these_features = list(range(54))\n",
    "print(test_feature_list(these_features,train_x, train_y))"
   ]
  },
  {
   "cell_type": "markdown",
   "metadata": {},
   "source": [
    "Chars and Caps"
   ]
  },
  {
   "cell_type": "code",
   "execution_count": 9,
   "metadata": {
    "collapsed": false
   },
   "outputs": [
    {
     "name": "stdout",
     "output_type": "stream",
     "text": [
      "0.587536231884\n"
     ]
    }
   ],
   "source": [
    "these_features = list(range(48,57))\n",
    "print(test_feature_list(these_features,train_x, train_y))"
   ]
  },
  {
   "cell_type": "markdown",
   "metadata": {},
   "source": [
    "Words and Caps"
   ]
  },
  {
   "cell_type": "code",
   "execution_count": 10,
   "metadata": {
    "collapsed": false
   },
   "outputs": [
    {
     "name": "stdout",
     "output_type": "stream",
     "text": [
      "0.794492753623\n"
     ]
    }
   ],
   "source": [
    "these_features = list(range(48)) + [54,55,56]\n",
    "print(test_feature_list(these_features,train_x, train_y))"
   ]
  },
  {
   "cell_type": "markdown",
   "metadata": {},
   "source": [
    "Words One at a Time"
   ]
  },
  {
   "cell_type": "code",
   "execution_count": 16,
   "metadata": {
    "collapsed": false
   },
   "outputs": [],
   "source": [
    "def add_word(words_so_far=None, all_words=list(range(48)), in_data=train_x, out_data=train_y):\n",
    "    if words_so_far is None:\n",
    "        words_so_far = []\n",
    "        best = (None, 0)\n",
    "    else:\n",
    "        best = (words_so_far, test_feature_list(words_so_far, in_data, out_data))\n",
    "    for i in range(48):\n",
    "        this_score = test_feature_list(words_so_far+[i],train_x, train_y)\n",
    "        if this_score > best[1]:\n",
    "            best = [words_so_far+[i],this_score]\n",
    "    return best"
   ]
  },
  {
   "cell_type": "code",
   "execution_count": 17,
   "metadata": {
    "collapsed": false
   },
   "outputs": [
    {
     "name": "stdout",
     "output_type": "stream",
     "text": [
      "[[0], 0.6026086956521739]\n"
     ]
    }
   ],
   "source": [
    "so_far = add_word()\n",
    "print(so_far)"
   ]
  },
  {
   "cell_type": "code",
   "execution_count": 18,
   "metadata": {
    "collapsed": false
   },
   "outputs": [
    {
     "name": "stdout",
     "output_type": "stream",
     "text": [
      "[[0, 6], 0.71014492753623193]\n"
     ]
    }
   ],
   "source": [
    "so_far = add_word(so_far[0])\n",
    "print(so_far)"
   ]
  },
  {
   "cell_type": "code",
   "execution_count": 19,
   "metadata": {
    "collapsed": false
   },
   "outputs": [
    {
     "name": "stdout",
     "output_type": "stream",
     "text": [
      "[[0, 6, 24], 0.78086956521739126]\n"
     ]
    }
   ],
   "source": [
    "so_far = add_word(so_far[0])\n",
    "print(so_far)"
   ]
  },
  {
   "cell_type": "code",
   "execution_count": 20,
   "metadata": {
    "collapsed": false
   },
   "outputs": [
    {
     "name": "stdout",
     "output_type": "stream",
     "text": [
      "[[0, 6, 24, 15], 0.82434782608695656]\n"
     ]
    }
   ],
   "source": [
    "so_far = add_word(so_far[0])\n",
    "print(so_far)"
   ]
  },
  {
   "cell_type": "code",
   "execution_count": 21,
   "metadata": {
    "collapsed": false
   },
   "outputs": [
    {
     "name": "stdout",
     "output_type": "stream",
     "text": [
      "[[0, 6, 24, 15, 22], 0.85391304347826091]\n"
     ]
    }
   ],
   "source": [
    "so_far = add_word(so_far[0])\n",
    "print(so_far)"
   ]
  },
  {
   "cell_type": "code",
   "execution_count": 22,
   "metadata": {
    "collapsed": false
   },
   "outputs": [
    {
     "name": "stdout",
     "output_type": "stream",
     "text": [
      "[[0, 6, 24, 15, 22, 23], 0.87275362318840577]\n"
     ]
    }
   ],
   "source": [
    "so_far = add_word(so_far[0])\n",
    "print(so_far)"
   ]
  },
  {
   "cell_type": "code",
   "execution_count": 23,
   "metadata": {
    "collapsed": false
   },
   "outputs": [
    {
     "name": "stdout",
     "output_type": "stream",
     "text": [
      "[[0, 6, 24, 15, 22, 23, 45], 0.88260869565217392]\n"
     ]
    }
   ],
   "source": [
    "so_far = add_word(so_far[0])\n",
    "print(so_far)"
   ]
  },
  {
   "cell_type": "code",
   "execution_count": 24,
   "metadata": {
    "collapsed": false
   },
   "outputs": [
    {
     "name": "stdout",
     "output_type": "stream",
     "text": [
      "[[0, 6, 24, 15, 22, 23, 45, 7], 0.88985507246376816]\n"
     ]
    }
   ],
   "source": [
    "so_far = add_word(so_far[0])\n",
    "print(so_far)"
   ]
  },
  {
   "cell_type": "code",
   "execution_count": 25,
   "metadata": {
    "collapsed": false
   },
   "outputs": [
    {
     "name": "stdout",
     "output_type": "stream",
     "text": [
      "[[0, 6, 24, 15, 22, 23, 45, 7, 19], 0.89797101449275363]\n"
     ]
    }
   ],
   "source": [
    "so_far = add_word(so_far[0])\n",
    "print(so_far)"
   ]
  },
  {
   "cell_type": "code",
   "execution_count": 26,
   "metadata": {
    "collapsed": false
   },
   "outputs": [
    {
     "name": "stdout",
     "output_type": "stream",
     "text": [
      "[[0, 6, 24, 15, 22, 23, 45, 7, 19, 26], 0.90144927536231889]\n"
     ]
    }
   ],
   "source": [
    "so_far = add_word(so_far[0])\n",
    "print(so_far)"
   ]
  },
  {
   "cell_type": "code",
   "execution_count": 27,
   "metadata": {
    "collapsed": false
   },
   "outputs": [
    {
     "name": "stdout",
     "output_type": "stream",
     "text": [
      "[[0, 6, 24, 15, 22, 23, 45, 7, 19, 26, 16], 0.90434782608695652]\n"
     ]
    }
   ],
   "source": [
    "so_far = add_word(so_far[0])\n",
    "print(so_far)"
   ]
  },
  {
   "cell_type": "code",
   "execution_count": 28,
   "metadata": {
    "collapsed": false
   },
   "outputs": [
    {
     "name": "stdout",
     "output_type": "stream",
     "text": [
      "[[0, 6, 24, 15, 22, 23, 45, 7, 19, 26, 16, 44], 0.90666666666666662]\n"
     ]
    }
   ],
   "source": [
    "so_far = add_word(so_far[0])\n",
    "print(so_far)"
   ]
  },
  {
   "cell_type": "code",
   "execution_count": 29,
   "metadata": {
    "collapsed": false
   },
   "outputs": [
    {
     "name": "stdout",
     "output_type": "stream",
     "text": [
      "[[0, 6, 24, 15, 22, 23, 45, 7, 19, 26, 16, 44, 8], 0.90985507246376807]\n"
     ]
    }
   ],
   "source": [
    "so_far = add_word(so_far[0])\n",
    "print(so_far)"
   ]
  },
  {
   "cell_type": "code",
   "execution_count": 30,
   "metadata": {
    "collapsed": false
   },
   "outputs": [
    {
     "name": "stdout",
     "output_type": "stream",
     "text": [
      "[[0, 6, 24, 15, 22, 23, 45, 7, 19, 26, 16, 44, 8, 43], 0.91217391304347828]\n"
     ]
    }
   ],
   "source": [
    "so_far = add_word(so_far[0])\n",
    "print(so_far)"
   ]
  },
  {
   "cell_type": "code",
   "execution_count": 31,
   "metadata": {
    "collapsed": false
   },
   "outputs": [
    {
     "name": "stdout",
     "output_type": "stream",
     "text": [
      "[[0, 6, 24, 15, 22, 23, 45, 7, 19, 26, 16, 44, 8, 43, 10], 0.91449275362318838]\n"
     ]
    }
   ],
   "source": [
    "so_far = add_word(so_far[0])\n",
    "print(so_far)"
   ]
  },
  {
   "cell_type": "code",
   "execution_count": 32,
   "metadata": {
    "collapsed": false
   },
   "outputs": [
    {
     "name": "stdout",
     "output_type": "stream",
     "text": [
      "[[0, 6, 24, 15, 22, 23, 45, 7, 19, 26, 16, 44, 8, 43, 10, 40], 0.91594202898550725]\n"
     ]
    }
   ],
   "source": [
    "so_far = add_word(so_far[0])\n",
    "print(so_far)"
   ]
  },
  {
   "cell_type": "code",
   "execution_count": 33,
   "metadata": {
    "collapsed": false
   },
   "outputs": [
    {
     "name": "stdout",
     "output_type": "stream",
     "text": [
      "[[0, 6, 24, 15, 22, 23, 45, 7, 19, 26, 16, 44, 8, 43, 10, 40, 47], 0.9171014492753623]\n"
     ]
    }
   ],
   "source": [
    "so_far = add_word(so_far[0])\n",
    "print(so_far)"
   ]
  },
  {
   "cell_type": "code",
   "execution_count": 34,
   "metadata": {
    "collapsed": false
   },
   "outputs": [
    {
     "name": "stdout",
     "output_type": "stream",
     "text": [
      "[[0, 6, 24, 15, 22, 23, 45, 7, 19, 26, 16, 44, 8, 43, 10, 40, 47, 41], 0.91826086956521735]\n"
     ]
    }
   ],
   "source": [
    "so_far = add_word(so_far[0])\n",
    "print(so_far)"
   ]
  },
  {
   "cell_type": "code",
   "execution_count": 35,
   "metadata": {
    "collapsed": false
   },
   "outputs": [
    {
     "name": "stdout",
     "output_type": "stream",
     "text": [
      "[[0, 6, 24, 15, 22, 23, 45, 7, 19, 26, 16, 44, 8, 43, 10, 40, 47, 41, 3], 0.92028985507246375]\n"
     ]
    }
   ],
   "source": [
    "so_far = add_word(so_far[0])\n",
    "print(so_far)"
   ]
  },
  {
   "cell_type": "code",
   "execution_count": 36,
   "metadata": {
    "collapsed": false
   },
   "outputs": [
    {
     "name": "stdout",
     "output_type": "stream",
     "text": [
      "[[0, 6, 24, 15, 22, 23, 45, 7, 19, 26, 16, 44, 8, 43, 10, 40, 47, 41, 3, 28], 0.92057971014492757]\n"
     ]
    }
   ],
   "source": [
    "so_far = add_word(so_far[0])\n",
    "print(so_far)"
   ]
  },
  {
   "cell_type": "code",
   "execution_count": 37,
   "metadata": {
    "collapsed": false
   },
   "outputs": [
    {
     "name": "stdout",
     "output_type": "stream",
     "text": [
      "[[0, 6, 24, 15, 22, 23, 45, 7, 19, 26, 16, 44, 8, 43, 10, 40, 47, 41, 3, 28, 6], 0.92173913043478262]\n"
     ]
    }
   ],
   "source": [
    "so_far = add_word(so_far[0])\n",
    "print(so_far)"
   ]
  },
  {
   "cell_type": "code",
   "execution_count": 38,
   "metadata": {
    "collapsed": false
   },
   "outputs": [
    {
     "name": "stdout",
     "output_type": "stream",
     "text": [
      "[[0, 6, 24, 15, 22, 23, 45, 7, 19, 26, 16, 44, 8, 43, 10, 40, 47, 41, 3, 28, 6, 38], 0.92202898550724632]\n"
     ]
    }
   ],
   "source": [
    "so_far = add_word(so_far[0])\n",
    "print(so_far)"
   ]
  },
  {
   "cell_type": "code",
   "execution_count": 39,
   "metadata": {
    "collapsed": false
   },
   "outputs": [
    {
     "name": "stdout",
     "output_type": "stream",
     "text": [
      "[[0, 6, 24, 15, 22, 23, 45, 7, 19, 26, 16, 44, 8, 43, 10, 40, 47, 41, 3, 28, 6, 38, 27], 0.92260869565217396]\n"
     ]
    }
   ],
   "source": [
    "so_far = add_word(so_far[0])\n",
    "print(so_far)"
   ]
  },
  {
   "cell_type": "code",
   "execution_count": 40,
   "metadata": {
    "collapsed": false
   },
   "outputs": [
    {
     "name": "stdout",
     "output_type": "stream",
     "text": [
      "[[0, 6, 24, 15, 22, 23, 45, 7, 19, 26, 16, 44, 8, 43, 10, 40, 47, 41, 3, 28, 6, 38, 27, 3], 0.92347826086956519]\n"
     ]
    }
   ],
   "source": [
    "so_far = add_word(so_far[0])\n",
    "print(so_far)"
   ]
  },
  {
   "cell_type": "code",
   "execution_count": 41,
   "metadata": {
    "collapsed": false
   },
   "outputs": [
    {
     "name": "stdout",
     "output_type": "stream",
     "text": [
      "[[0, 6, 24, 15, 22, 23, 45, 7, 19, 26, 16, 44, 8, 43, 10, 40, 47, 41, 3, 28, 6, 38, 27, 3, 45], 0.92376811594202901]\n"
     ]
    }
   ],
   "source": [
    "so_far = add_word(so_far[0])\n",
    "print(so_far)"
   ]
  },
  {
   "cell_type": "code",
   "execution_count": 42,
   "metadata": {
    "collapsed": false
   },
   "outputs": [
    {
     "name": "stdout",
     "output_type": "stream",
     "text": [
      "[[0, 6, 24, 15, 22, 23, 45, 7, 19, 26, 16, 44, 8, 43, 10, 40, 47, 41, 3, 28, 6, 38, 27, 3, 45, 21], 0.92434782608695654]\n"
     ]
    }
   ],
   "source": [
    "so_far = add_word(so_far[0])\n",
    "print(so_far)"
   ]
  },
  {
   "cell_type": "code",
   "execution_count": 43,
   "metadata": {
    "collapsed": false
   },
   "outputs": [
    {
     "data": {
      "text/plain": [
       "26"
      ]
     },
     "execution_count": 43,
     "metadata": {},
     "output_type": "execute_result"
    }
   ],
   "source": [
    "len(so_far[0])"
   ]
  },
  {
   "cell_type": "code",
   "execution_count": 44,
   "metadata": {
    "collapsed": false
   },
   "outputs": [
    {
     "data": {
      "text/plain": [
       "23"
      ]
     },
     "execution_count": 44,
     "metadata": {},
     "output_type": "execute_result"
    }
   ],
   "source": [
    "len(set(so_far[0]))"
   ]
  },
  {
   "cell_type": "code",
   "execution_count": 45,
   "metadata": {
    "collapsed": true
   },
   "outputs": [],
   "source": [
    "best_words =[0, 6, 24, 15, 22, 23, 45, 7, 19, 26, 16, 44, 8, 43, 10, 40, 47, 41, 3, 28, 6, 38, 27]"
   ]
  },
  {
   "cell_type": "code",
   "execution_count": 46,
   "metadata": {
    "collapsed": true
   },
   "outputs": [],
   "source": [
    "columns = ['word_freq_make', 'word_freq_address', 'word_freq_all', 'word_freq_3d', 'word_freq_our', 'word_freq_over', 'word_freq_remove',\n",
    "           'word_freq_internet', 'word_freq_order', 'word_freq_mail', 'word_freq_receive', 'word_freq_will', 'word_freq_people',\n",
    "           'word_freq_report', 'word_freq_addresses', 'word_freq_free', 'word_freq_business', 'word_freq_email', 'word_freq_you',\n",
    "           'word_freq_credit', 'word_freq_your', 'word_freq_font', 'word_freq_000', 'word_freq_money', 'word_freq_hp', 'word_freq_hpl',\n",
    "           'word_freq_george', 'word_freq_650', 'word_freq_lab', 'word_freq_labs', 'word_freq_telnet', 'word_freq_857', 'word_freq_data',\n",
    "           'word_freq_415', 'word_freq_85', 'word_freq_technology', 'word_freq_1999', 'word_freq_parts', 'word_freq_pm', 'word_freq_direct',\n",
    "           'word_freq_cs', 'word_freq_meeting', 'word_freq_original', 'word_freq_project', 'word_freq_re', 'word_freq_edu', 'word_freq_table',\n",
    "           'word_freq_conference', 'char_freq_;', 'char_freq_(', 'char_freq_[', 'char_freq_!', 'char_freq_$', 'char_freq_#',\n",
    "           'capital_run_length_average', 'capital_run_length_longest', 'capital_run_length_total']"
   ]
  },
  {
   "cell_type": "code",
   "execution_count": 48,
   "metadata": {
    "collapsed": false
   },
   "outputs": [
    {
     "name": "stdout",
     "output_type": "stream",
     "text": [
      "word_freq_make\n",
      "word_freq_remove\n",
      "word_freq_hp\n",
      "word_freq_free\n",
      "word_freq_000\n",
      "word_freq_money\n",
      "word_freq_edu\n",
      "word_freq_internet\n",
      "word_freq_credit\n",
      "word_freq_george\n",
      "word_freq_business\n",
      "word_freq_re\n",
      "word_freq_order\n",
      "word_freq_project\n",
      "word_freq_receive\n",
      "word_freq_cs\n",
      "word_freq_conference\n",
      "word_freq_meeting\n",
      "word_freq_3d\n",
      "word_freq_lab\n",
      "word_freq_remove\n",
      "word_freq_pm\n",
      "word_freq_650\n"
     ]
    }
   ],
   "source": [
    "for i in best_words:\n",
    "    print(columns[i])"
   ]
  },
  {
   "cell_type": "code",
   "execution_count": 49,
   "metadata": {
    "collapsed": false
   },
   "outputs": [
    {
     "data": {
      "text/plain": [
       "0.90008688097306688"
      ]
     },
     "execution_count": 49,
     "metadata": {},
     "output_type": "execute_result"
    }
   ],
   "source": [
    "test_feature_list(best_words,test_x,test_y)"
   ]
  },
  {
   "cell_type": "code",
   "execution_count": null,
   "metadata": {
    "collapsed": true
   },
   "outputs": [],
   "source": []
  }
 ],
 "metadata": {
  "kernelspec": {
   "display_name": "Python 3",
   "language": "python",
   "name": "python3"
  },
  "language_info": {
   "codemirror_mode": {
    "name": "ipython",
    "version": 3
   },
   "file_extension": ".py",
   "mimetype": "text/x-python",
   "name": "python",
   "nbconvert_exporter": "python",
   "pygments_lexer": "ipython3",
   "version": "3.5.1"
  }
 },
 "nbformat": 4,
 "nbformat_minor": 0
}
